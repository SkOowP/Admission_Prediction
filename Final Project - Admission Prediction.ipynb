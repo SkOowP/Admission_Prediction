{
 "cells": [
  {
   "cell_type": "markdown",
   "id": "590f00b3",
   "metadata": {},
   "source": [
    "# Libraries Importation & Data Pre-Processing"
   ]
  },
  {
   "cell_type": "code",
   "execution_count": 69,
   "id": "e0ea431c",
   "metadata": {},
   "outputs": [],
   "source": [
    "import pandas as pd\n",
    "import numpy as np\n",
    "from math import sqrt\n",
    "#from scipy import stats\n",
    "from scipy.stats import norm\n",
    "import seaborn as sns\n",
    "import matplotlib.pyplot as plt\n",
    "import statsmodels.api as sm\n",
    "#from ggplot import *\n",
    "from scipy.stats import chi2_contingency"
   ]
  },
  {
   "cell_type": "code",
   "execution_count": 3,
   "id": "dc953fac",
   "metadata": {},
   "outputs": [
    {
     "data": {
      "text/html": [
       "<div>\n",
       "<style scoped>\n",
       "    .dataframe tbody tr th:only-of-type {\n",
       "        vertical-align: middle;\n",
       "    }\n",
       "\n",
       "    .dataframe tbody tr th {\n",
       "        vertical-align: top;\n",
       "    }\n",
       "\n",
       "    .dataframe thead th {\n",
       "        text-align: right;\n",
       "    }\n",
       "</style>\n",
       "<table border=\"1\" class=\"dataframe\">\n",
       "  <thead>\n",
       "    <tr style=\"text-align: right;\">\n",
       "      <th></th>\n",
       "      <th>Serial No.</th>\n",
       "      <th>GRE Score</th>\n",
       "      <th>TOEFL Score</th>\n",
       "      <th>University Rating</th>\n",
       "      <th>SOP</th>\n",
       "      <th>LOR</th>\n",
       "      <th>CGPA</th>\n",
       "      <th>Research</th>\n",
       "      <th>Chance of Admit</th>\n",
       "    </tr>\n",
       "  </thead>\n",
       "  <tbody>\n",
       "    <tr>\n",
       "      <th>0</th>\n",
       "      <td>1.0</td>\n",
       "      <td>337.0</td>\n",
       "      <td>118.0</td>\n",
       "      <td>4.0</td>\n",
       "      <td>4.5</td>\n",
       "      <td>4.5</td>\n",
       "      <td>9.65</td>\n",
       "      <td>1.0</td>\n",
       "      <td>0.92</td>\n",
       "    </tr>\n",
       "    <tr>\n",
       "      <th>1</th>\n",
       "      <td>2.0</td>\n",
       "      <td>324.0</td>\n",
       "      <td>107.0</td>\n",
       "      <td>4.0</td>\n",
       "      <td>4.0</td>\n",
       "      <td>4.5</td>\n",
       "      <td>8.87</td>\n",
       "      <td>1.0</td>\n",
       "      <td>0.76</td>\n",
       "    </tr>\n",
       "    <tr>\n",
       "      <th>2</th>\n",
       "      <td>3.0</td>\n",
       "      <td>316.0</td>\n",
       "      <td>104.0</td>\n",
       "      <td>3.0</td>\n",
       "      <td>3.0</td>\n",
       "      <td>3.5</td>\n",
       "      <td>8.00</td>\n",
       "      <td>1.0</td>\n",
       "      <td>0.72</td>\n",
       "    </tr>\n",
       "    <tr>\n",
       "      <th>3</th>\n",
       "      <td>4.0</td>\n",
       "      <td>322.0</td>\n",
       "      <td>110.0</td>\n",
       "      <td>3.0</td>\n",
       "      <td>3.5</td>\n",
       "      <td>2.5</td>\n",
       "      <td>8.67</td>\n",
       "      <td>1.0</td>\n",
       "      <td>0.80</td>\n",
       "    </tr>\n",
       "    <tr>\n",
       "      <th>4</th>\n",
       "      <td>5.0</td>\n",
       "      <td>314.0</td>\n",
       "      <td>103.0</td>\n",
       "      <td>2.0</td>\n",
       "      <td>2.0</td>\n",
       "      <td>3.0</td>\n",
       "      <td>8.21</td>\n",
       "      <td>0.0</td>\n",
       "      <td>0.65</td>\n",
       "    </tr>\n",
       "  </tbody>\n",
       "</table>\n",
       "</div>"
      ],
      "text/plain": [
       "   Serial No.  GRE Score  TOEFL Score  University Rating  SOP  LOR   CGPA  \\\n",
       "0         1.0      337.0        118.0                4.0  4.5   4.5  9.65   \n",
       "1         2.0      324.0        107.0                4.0  4.0   4.5  8.87   \n",
       "2         3.0      316.0        104.0                3.0  3.0   3.5  8.00   \n",
       "3         4.0      322.0        110.0                3.0  3.5   2.5  8.67   \n",
       "4         5.0      314.0        103.0                2.0  2.0   3.0  8.21   \n",
       "\n",
       "   Research  Chance of Admit   \n",
       "0       1.0              0.92  \n",
       "1       1.0              0.76  \n",
       "2       1.0              0.72  \n",
       "3       1.0              0.80  \n",
       "4       0.0              0.65  "
      ]
     },
     "execution_count": 3,
     "metadata": {},
     "output_type": "execute_result"
    }
   ],
   "source": [
    "df = pd.read_csv('Admission_Predict_Ver1.1.csv')\n",
    "df.head()"
   ]
  },
  {
   "cell_type": "code",
   "execution_count": 4,
   "id": "5dfbc376",
   "metadata": {},
   "outputs": [
    {
     "name": "stdout",
     "output_type": "stream",
     "text": [
      "<class 'pandas.core.frame.DataFrame'>\n",
      "RangeIndex: 501 entries, 0 to 500\n",
      "Data columns (total 9 columns):\n",
      " #   Column             Non-Null Count  Dtype  \n",
      "---  ------             --------------  -----  \n",
      " 0   Serial No.         500 non-null    float64\n",
      " 1   GRE Score          501 non-null    float64\n",
      " 2   TOEFL Score        500 non-null    float64\n",
      " 3   University Rating  500 non-null    float64\n",
      " 4   SOP                500 non-null    float64\n",
      " 5   LOR                500 non-null    float64\n",
      " 6   CGPA               500 non-null    float64\n",
      " 7   Research           500 non-null    float64\n",
      " 8   Chance of Admit    500 non-null    float64\n",
      "dtypes: float64(9)\n",
      "memory usage: 35.4 KB\n"
     ]
    }
   ],
   "source": [
    "df.info()"
   ]
  },
  {
   "cell_type": "markdown",
   "id": "e0eb5faa",
   "metadata": {},
   "source": [
    "# Hypothesis Testing Type 1"
   ]
  },
  {
   "cell_type": "code",
   "execution_count": 5,
   "id": "460768ac",
   "metadata": {},
   "outputs": [
    {
     "name": "stdout",
     "output_type": "stream",
     "text": [
      "501\n"
     ]
    }
   ],
   "source": [
    "# n is the length of the sample\n",
    "n = len(df)\n",
    "print(n)"
   ]
  },
  {
   "cell_type": "code",
   "execution_count": 6,
   "id": "1911f85c",
   "metadata": {},
   "outputs": [
    {
     "name": "stdout",
     "output_type": "stream",
     "text": [
      "127.32521600000001\n"
     ]
    }
   ],
   "source": [
    "# s = sample variance\n",
    "s = df[\"GRE Score\"].var()\n",
    "print(s)"
   ]
  },
  {
   "cell_type": "code",
   "execution_count": 7,
   "id": "6270e8a5",
   "metadata": {},
   "outputs": [
    {
     "name": "stdout",
     "output_type": "stream",
     "text": [
      "1.137739798033408\n"
     ]
    }
   ],
   "source": [
    "# Z = test statistic\n",
    "Z = (df[\"GRE Score\"].mean()-310) / (s/sqrt(n))\n",
    "print(Z)"
   ]
  },
  {
   "cell_type": "code",
   "execution_count": 8,
   "id": "e47c8ade",
   "metadata": {},
   "outputs": [
    {
     "name": "stdout",
     "output_type": "stream",
     "text": [
      "0.25522914984142087\n"
     ]
    }
   ],
   "source": [
    "# p-value of test statistic\n",
    "p = 2*norm.cdf(-abs(Z))\n",
    "print(p)"
   ]
  },
  {
   "cell_type": "markdown",
   "id": "b4f3aad7",
   "metadata": {},
   "source": [
    "# Hypothesis Testing Type 2"
   ]
  },
  {
   "cell_type": "code",
   "execution_count": 10,
   "id": "de6eb9db",
   "metadata": {},
   "outputs": [],
   "source": [
    "# withResearch = table with students having researches\n",
    "# withoutResearch = table with students having no researches\n",
    "\n",
    "withResearch = df[df[\"Research\"] == 1]\n",
    "withoutResearch = df[df[\"Research\"] == 0]"
   ]
  },
  {
   "cell_type": "code",
   "execution_count": 11,
   "id": "90115394",
   "metadata": {},
   "outputs": [
    {
     "name": "stdout",
     "output_type": "stream",
     "text": [
      "280\n"
     ]
    }
   ],
   "source": [
    "# n1 = number of students having researches\n",
    "n1 = len(withResearch)\n",
    "print(n1)"
   ]
  },
  {
   "cell_type": "code",
   "execution_count": 12,
   "id": "59f0e30f",
   "metadata": {},
   "outputs": [
    {
     "name": "stdout",
     "output_type": "stream",
     "text": [
      "220\n"
     ]
    }
   ],
   "source": [
    "# n2 = number of students having no researches\n",
    "n2 = len(withoutResearch)\n",
    "print(n2)"
   ]
  },
  {
   "cell_type": "code",
   "execution_count": 13,
   "id": "5846bc58",
   "metadata": {},
   "outputs": [
    {
     "name": "stdout",
     "output_type": "stream",
     "text": [
      "0.7899642857142857\n"
     ]
    }
   ],
   "source": [
    "x1 = withResearch[\"Chance of Admit \"].mean()\n",
    "print(x1)"
   ]
  },
  {
   "cell_type": "code",
   "execution_count": 14,
   "id": "dd318d0e",
   "metadata": {},
   "outputs": [
    {
     "name": "stdout",
     "output_type": "stream",
     "text": [
      "0.634909090909091\n"
     ]
    }
   ],
   "source": [
    "x2 = withoutResearch[\"Chance of Admit \"].mean()\n",
    "print(x2)"
   ]
  },
  {
   "cell_type": "code",
   "execution_count": 15,
   "id": "e49738d4",
   "metadata": {},
   "outputs": [
    {
     "name": "stdout",
     "output_type": "stream",
     "text": [
      "0.01518028545826933\n"
     ]
    }
   ],
   "source": [
    "var1 = withResearch[\"Chance of Admit \"].var()\n",
    "print(var1)"
   ]
  },
  {
   "cell_type": "code",
   "execution_count": 16,
   "id": "6b3024aa",
   "metadata": {},
   "outputs": [
    {
     "name": "stdout",
     "output_type": "stream",
     "text": [
      "0.01518028545826933\n"
     ]
    }
   ],
   "source": [
    "var2 = withoutResearch[\"Chance of Admit \"].var()\n",
    "print(var1)"
   ]
  },
  {
   "cell_type": "code",
   "execution_count": 17,
   "id": "fd7e7e0c",
   "metadata": {},
   "outputs": [
    {
     "name": "stdout",
     "output_type": "stream",
     "text": [
      "14.707274979628917\n"
     ]
    }
   ],
   "source": [
    "t0 = (x1 - x2 - 0)/(sqrt((var1/n1) + (var2/n2)))\n",
    "print(t0)"
   ]
  },
  {
   "cell_type": "code",
   "execution_count": 19,
   "id": "ac075dd8",
   "metadata": {},
   "outputs": [
    {
     "name": "stdout",
     "output_type": "stream",
     "text": [
      "487.6049791861994\n"
     ]
    }
   ],
   "source": [
    "v = ((var1/n1) + (var2/n2)) * ((var1/n1) + (var2/n2)) / ((((var1/n1)*(var1/n1)) / (n1-1)) + (((var2/n2)*(var2/n2)) / (n2-1)))\n",
    "print(v)"
   ]
  },
  {
   "cell_type": "code",
   "execution_count": 20,
   "id": "54096ace",
   "metadata": {},
   "outputs": [
    {
     "data": {
      "text/plain": [
       "487.0"
      ]
     },
     "execution_count": 20,
     "metadata": {},
     "output_type": "execute_result"
    }
   ],
   "source": [
    "np.floor(v)"
   ]
  },
  {
   "cell_type": "code",
   "execution_count": 21,
   "id": "d8d79bad",
   "metadata": {},
   "outputs": [
    {
     "name": "stdout",
     "output_type": "stream",
     "text": [
      "-1.9648471009786466\n"
     ]
    }
   ],
   "source": [
    "alpha = 0.05\n",
    "t_alpha = stats.t.ppf(alpha/2, np.floor(v))\n",
    "print(t_alpha)"
   ]
  },
  {
   "cell_type": "code",
   "execution_count": 32,
   "id": "487eea9a",
   "metadata": {},
   "outputs": [
    {
     "name": "stdout",
     "output_type": "stream",
     "text": [
      "3.5954935458409782e-40\n"
     ]
    }
   ],
   "source": [
    "from scipy import stats\n",
    "\n",
    "# Perform the t-test\n",
    "t, p = stats.ttest_ind(withResearch[\"Chance of Admit \"], withoutResearch[\"Chance of Admit \"])\n",
    "\n",
    "# Print the p-value\n",
    "print(p)\n"
   ]
  },
  {
   "cell_type": "markdown",
   "id": "cca14d98",
   "metadata": {},
   "source": [
    "# Correlation"
   ]
  },
  {
   "cell_type": "code",
   "execution_count": 90,
   "id": "862c33d2",
   "metadata": {},
   "outputs": [
    {
     "data": {
      "image/png": "[encoded data removed]",
      "text/plain": [
       "<Figure size 432x288 with 1 Axes>"
      ]
     },
     "metadata": {},
     "output_type": "display_data"
    }
   ],
   "source": [
    "# Set the Seaborn style\n",
    "sns.set_style(\"darkgrid\")\n",
    "\n",
    "# Scatterplot with regression line and confidence interval\n",
    "sns.regplot(x=\"TOEFL Score\", y=\"GRE Score\", data=df,\n",
    "            line_kws={\"color\": \"red\"}, ci=True)\n",
    "\n",
    "# Add Pearson's correlation coefficient and p-value to the plot\n",
    "sns.scatterplot(x=\"TOEFL Score\", y=\"GRE Score\", data=df,\n",
    "                hue=\"Research\", style=\"Research\",\n",
    "                palette=[\"#3498db\", \"#e74c3c\"])\n",
    "\n",
    "# Set the x-axis label\n",
    "plt.xlabel(\"TOEFL Score\")\n",
    "\n",
    "# Set the y-axis label\n",
    "plt.ylabel(\"GRE Score\")\n",
    "\n",
    "# Show the plot\n",
    "plt.show()\n"
   ]
  },
  {
   "cell_type": "code",
   "execution_count": 24,
   "id": "ba5b3a14",
   "metadata": {},
   "outputs": [],
   "source": [
    "df1 = df.dropna()"
   ]
  },
  {
   "cell_type": "code",
   "execution_count": 28,
   "id": "bd68ab7d",
   "metadata": {},
   "outputs": [
    {
     "name": "stdout",
     "output_type": "stream",
     "text": [
      "0.827200403531721\n"
     ]
    }
   ],
   "source": [
    "# Calculate the correlation coefficient\n",
    "r, p = stats.pearsonr(df1[\"TOEFL Score\"], df1['GRE Score'])\n",
    "\n",
    "# Print the correlation coefficient\n",
    "print(r)\n"
   ]
  },
  {
   "cell_type": "code",
   "execution_count": 35,
   "id": "2bec3cfb",
   "metadata": {},
   "outputs": [
    {
     "name": "stdout",
     "output_type": "stream",
     "text": [
      "109.70714285714286\n"
     ]
    }
   ],
   "source": [
    "x1 = withResearch[\"TOEFL Score\"].mean()\n",
    "print(x1)"
   ]
  },
  {
   "cell_type": "code",
   "execution_count": 36,
   "id": "593ba01e",
   "metadata": {},
   "outputs": [
    {
     "name": "stdout",
     "output_type": "stream",
     "text": [
      "309.3\n"
     ]
    }
   ],
   "source": [
    "x2 = withoutResearch[\"GRE Score\"].mean()\n",
    "print(x2)"
   ]
  },
  {
   "cell_type": "code",
   "execution_count": 37,
   "id": "606ef205",
   "metadata": {},
   "outputs": [
    {
     "name": "stdout",
     "output_type": "stream",
     "text": [
      "33.53399897593446\n"
     ]
    }
   ],
   "source": [
    "var1 = withResearch[\"TOEFL Score\"].var()\n",
    "print(var1)"
   ]
  },
  {
   "cell_type": "code",
   "execution_count": 38,
   "id": "18627d8b",
   "metadata": {},
   "outputs": [
    {
     "name": "stdout",
     "output_type": "stream",
     "text": [
      "33.53399897593446\n"
     ]
    }
   ],
   "source": [
    "var2 = withoutResearch[\"GRE Score\"].var()\n",
    "print(var1)"
   ]
  },
  {
   "cell_type": "code",
   "execution_count": 39,
   "id": "e0db4e5a",
   "metadata": {},
   "outputs": [
    {
     "name": "stdout",
     "output_type": "stream",
     "text": [
      "-295.9869985830399\n"
     ]
    }
   ],
   "source": [
    "t0 = (x1 - x2 - 0)/(sqrt((var1/n1) + (var2/n2)))\n",
    "print(t0)"
   ]
  },
  {
   "cell_type": "code",
   "execution_count": 42,
   "id": "42eb317c",
   "metadata": {},
   "outputs": [
    {
     "name": "stdout",
     "output_type": "stream",
     "text": [
      "-309.6310088455176\n"
     ]
    }
   ],
   "source": [
    "from scipy import stats\n",
    "\n",
    "# Perform the t-test\n",
    "t, p = stats.ttest_ind(withResearch[\"TOEFL Score\"], withoutResearch[\"GRE Score\"])\n",
    "\n",
    "# Print the t-value\n",
    "print(t)\n"
   ]
  },
  {
   "cell_type": "markdown",
   "id": "7021b9bc",
   "metadata": {},
   "source": [
    "## Regression"
   ]
  },
  {
   "cell_type": "code",
   "execution_count": 61,
   "id": "f2418ba6",
   "metadata": {},
   "outputs": [
    {
     "data": {
      "image/png": "[encoded data removed]",
      "text/plain": [
       "<Figure size 640x480 with 1 Axes>"
      ]
     },
     "metadata": {},
     "output_type": "display_data"
    },
    {
     "data": {
      "text/plain": [
       "<ggplot: (93854472813)>"
      ]
     },
     "execution_count": 61,
     "metadata": {},
     "output_type": "execute_result"
    }
   ],
   "source": [
    "from plotnine import *\n",
    "\n",
    "(ggplot(df1, aes(x='CGPA', y=\"Chance of Admit \"))\n",
    " + geom_point()\n",
    " + geom_smooth(method='lm'))"
   ]
  },
  {
   "cell_type": "code",
   "execution_count": 65,
   "id": "41cde2fa",
   "metadata": {},
   "outputs": [
    {
     "name": "stdout",
     "output_type": "stream",
     "text": [
      "Intercept: -1.044334923899038\n",
      "Coefficient: 0.2059216789132832\n"
     ]
    }
   ],
   "source": [
    "from sklearn.linear_model import LinearRegression\n",
    "\n",
    "# Split the data into independent and dependent variables\n",
    "X = df1[['CGPA']]\n",
    "y = df1[\"Chance of Admit \"]\n",
    "\n",
    "# Create a Linear Regression model\n",
    "model = LinearRegression()\n",
    "\n",
    "# Train the model on the data\n",
    "model.fit(X, y)\n",
    "\n",
    "# Print the model coefficients\n",
    "print(f'Intercept: {model.intercept_}')\n",
    "print(f'Coefficient: {model.coef_[0]}')"
   ]
  },
  {
   "cell_type": "code",
   "execution_count": 72,
   "id": "6cc7d308",
   "metadata": {},
   "outputs": [
    {
     "name": "stderr",
     "output_type": "stream",
     "text": [
      "C:\\Users\\pc\\AppData\\Local\\Temp\\ipykernel_12072\\167838669.py:1: SettingWithCopyWarning: \n",
      "A value is trying to be set on a copy of a slice from a DataFrame\n",
      "\n",
      "See the caveats in the documentation: https://pandas.pydata.org/pandas-docs/stable/user_guide/indexing.html#returning-a-view-versus-a-copy\n"
     ]
    }
   ],
   "source": [
    "df1.rename(columns = {'Chance of Admit ' : 'COA'}, inplace = True)"
   ]
  },
  {
   "cell_type": "code",
   "execution_count": 74,
   "id": "f348f215",
   "metadata": {},
   "outputs": [
    {
     "name": "stdout",
     "output_type": "stream",
     "text": [
      "R-squared: 0.78\n"
     ]
    }
   ],
   "source": [
    "import statsmodels.formula.api as smf\n",
    "\n",
    "# Fit the model\n",
    "model = smf.ols(formula='COA ~ CGPA', data=df1)\n",
    "results = model.fit()\n",
    "\n",
    "# Get the R-squared value\n",
    "r2 = results.rsquared\n",
    "print(f'R-squared: {r2:.2f}')"
   ]
  },
  {
   "cell_type": "code",
   "execution_count": 117,
   "id": "7c708cc2",
   "metadata": {},
   "outputs": [
    {
     "data": {
      "text/plain": [
       "Intercept     1.761419e-88\n",
       "CGPA         3.396545e-165\n",
       "dtype: float64"
      ]
     },
     "execution_count": 117,
     "metadata": {},
     "output_type": "execute_result"
    }
   ],
   "source": [
    "results.pvalues"
   ]
  },
  {
   "cell_type": "code",
   "execution_count": 76,
   "id": "dfccece0",
   "metadata": {},
   "outputs": [],
   "source": [
    "CGPA = df1[\"CGPA\"]\n",
    "COA = df1[\"COA\"]"
   ]
  },
  {
   "cell_type": "code",
   "execution_count": 77,
   "id": "d5469059",
   "metadata": {},
   "outputs": [
    {
     "data": {
      "text/plain": [
       "0.20592167891328325"
      ]
     },
     "execution_count": 77,
     "metadata": {},
     "output_type": "execute_result"
    }
   ],
   "source": [
    "(((CGPA - CGPA.mean()) * (COA - COA.mean())).sum())/((CGPA - CGPA.mean())*(CGPA - CGPA.mean())).sum()"
   ]
  },
  {
   "cell_type": "code",
   "execution_count": 78,
   "id": "d52115f9",
   "metadata": {},
   "outputs": [
    {
     "name": "stdout",
     "output_type": "stream",
     "text": [
      "-1.0443349238990385\n"
     ]
    }
   ],
   "source": [
    "b1 = (((CGPA - CGPA.mean()) * (COA - COA.mean())).sum())/((CGPA - CGPA.mean())*(CGPA - CGPA.mean())).sum()\n",
    "b1 = COA.mean()-(b1*CGPA.mean())\n",
    "print(b1)"
   ]
  },
  {
   "cell_type": "code",
   "execution_count": 79,
   "id": "4a6a84f0",
   "metadata": {},
   "outputs": [
    {
     "name": "stdout",
     "output_type": "stream",
     "text": [
      "9.678415814724667\n"
     ]
    }
   ],
   "source": [
    "b0 = COA.mean()-(b1*CGPA.mean())\n",
    "print(b0)"
   ]
  },
  {
   "cell_type": "code",
   "execution_count": 80,
   "id": "d42e50a7",
   "metadata": {},
   "outputs": [
    {
     "name": "stdout",
     "output_type": "stream",
     "text": [
      "77.5381327244372\n"
     ]
    }
   ],
   "source": [
    "SSE = (COA.mean() - (b1*CGPA.mean()*CGPA.mean())).sum()\n",
    "print(SSE)"
   ]
  },
  {
   "cell_type": "code",
   "execution_count": 81,
   "id": "541db396",
   "metadata": {},
   "outputs": [
    {
     "name": "stdout",
     "output_type": "stream",
     "text": [
      "0.408540307982578\n"
     ]
    }
   ],
   "source": [
    "sb1 = (sqrt(SSE/48)) / (sqrt(COA.mean() - b1*CGPA.mean()))\n",
    "print(sb1)"
   ]
  },
  {
   "cell_type": "code",
   "execution_count": 82,
   "id": "bbc0bca3",
   "metadata": {},
   "outputs": [
    {
     "name": "stdout",
     "output_type": "stream",
     "text": [
      "-2.5562592074600716\n"
     ]
    }
   ],
   "source": [
    "t0 = b1/sb1\n",
    "print(t0)"
   ]
  }
 ],
 "metadata": {
  "kernelspec": {
   "display_name": "Python 3 (ipykernel)",
   "language": "python",
   "name": "python3"
  },
  "language_info": {
   "codemirror_mode": {
    "name": "ipython",
    "version": 3
   },
   "file_extension": ".py",
   "mimetype": "text/x-python",
   "name": "python",
   "nbconvert_exporter": "python",
   "pygments_lexer": "ipython3",
   "version": "3.9.4"
  }
 },
 "nbformat": 4,
 "nbformat_minor": 5
}
